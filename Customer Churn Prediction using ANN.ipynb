{
 "cells": [
  {
   "cell_type": "markdown",
   "metadata": {},
   "source": [
    "# Importing All the Necessary Libraries"
   ]
  },
  {
   "cell_type": "code",
   "execution_count": 204,
   "metadata": {},
   "outputs": [],
   "source": [
    "import numpy as np \n",
    "import pandas as pd"
   ]
  },
  {
   "cell_type": "markdown",
   "metadata": {},
   "source": [
    "# Reading the Data Set"
   ]
  },
  {
   "cell_type": "code",
   "execution_count": 205,
   "metadata": {},
   "outputs": [
    {
     "data": {
      "text/html": [
       "<div>\n",
       "<style scoped>\n",
       "    .dataframe tbody tr th:only-of-type {\n",
       "        vertical-align: middle;\n",
       "    }\n",
       "\n",
       "    .dataframe tbody tr th {\n",
       "        vertical-align: top;\n",
       "    }\n",
       "\n",
       "    .dataframe thead th {\n",
       "        text-align: right;\n",
       "    }\n",
       "</style>\n",
       "<table border=\"1\" class=\"dataframe\">\n",
       "  <thead>\n",
       "    <tr style=\"text-align: right;\">\n",
       "      <th></th>\n",
       "      <th>RowNumber</th>\n",
       "      <th>CustomerId</th>\n",
       "      <th>Surname</th>\n",
       "      <th>CreditScore</th>\n",
       "      <th>Geography</th>\n",
       "      <th>Gender</th>\n",
       "      <th>Age</th>\n",
       "      <th>Tenure</th>\n",
       "      <th>Balance</th>\n",
       "      <th>NumOfProducts</th>\n",
       "      <th>HasCrCard</th>\n",
       "      <th>IsActiveMember</th>\n",
       "      <th>EstimatedSalary</th>\n",
       "      <th>Exited</th>\n",
       "    </tr>\n",
       "  </thead>\n",
       "  <tbody>\n",
       "    <tr>\n",
       "      <th>0</th>\n",
       "      <td>1</td>\n",
       "      <td>15634602</td>\n",
       "      <td>Hargrave</td>\n",
       "      <td>619</td>\n",
       "      <td>France</td>\n",
       "      <td>Female</td>\n",
       "      <td>42</td>\n",
       "      <td>2</td>\n",
       "      <td>0.00</td>\n",
       "      <td>1</td>\n",
       "      <td>1</td>\n",
       "      <td>1</td>\n",
       "      <td>101348.88</td>\n",
       "      <td>1</td>\n",
       "    </tr>\n",
       "    <tr>\n",
       "      <th>1</th>\n",
       "      <td>2</td>\n",
       "      <td>15647311</td>\n",
       "      <td>Hill</td>\n",
       "      <td>608</td>\n",
       "      <td>Spain</td>\n",
       "      <td>Female</td>\n",
       "      <td>41</td>\n",
       "      <td>1</td>\n",
       "      <td>83807.86</td>\n",
       "      <td>1</td>\n",
       "      <td>0</td>\n",
       "      <td>1</td>\n",
       "      <td>112542.58</td>\n",
       "      <td>0</td>\n",
       "    </tr>\n",
       "    <tr>\n",
       "      <th>2</th>\n",
       "      <td>3</td>\n",
       "      <td>15619304</td>\n",
       "      <td>Onio</td>\n",
       "      <td>502</td>\n",
       "      <td>France</td>\n",
       "      <td>Female</td>\n",
       "      <td>42</td>\n",
       "      <td>8</td>\n",
       "      <td>159660.80</td>\n",
       "      <td>3</td>\n",
       "      <td>1</td>\n",
       "      <td>0</td>\n",
       "      <td>113931.57</td>\n",
       "      <td>1</td>\n",
       "    </tr>\n",
       "    <tr>\n",
       "      <th>3</th>\n",
       "      <td>4</td>\n",
       "      <td>15701354</td>\n",
       "      <td>Boni</td>\n",
       "      <td>699</td>\n",
       "      <td>France</td>\n",
       "      <td>Female</td>\n",
       "      <td>39</td>\n",
       "      <td>1</td>\n",
       "      <td>0.00</td>\n",
       "      <td>2</td>\n",
       "      <td>0</td>\n",
       "      <td>0</td>\n",
       "      <td>93826.63</td>\n",
       "      <td>0</td>\n",
       "    </tr>\n",
       "    <tr>\n",
       "      <th>4</th>\n",
       "      <td>5</td>\n",
       "      <td>15737888</td>\n",
       "      <td>Mitchell</td>\n",
       "      <td>850</td>\n",
       "      <td>Spain</td>\n",
       "      <td>Female</td>\n",
       "      <td>43</td>\n",
       "      <td>2</td>\n",
       "      <td>125510.82</td>\n",
       "      <td>1</td>\n",
       "      <td>1</td>\n",
       "      <td>1</td>\n",
       "      <td>79084.10</td>\n",
       "      <td>0</td>\n",
       "    </tr>\n",
       "    <tr>\n",
       "      <th>...</th>\n",
       "      <td>...</td>\n",
       "      <td>...</td>\n",
       "      <td>...</td>\n",
       "      <td>...</td>\n",
       "      <td>...</td>\n",
       "      <td>...</td>\n",
       "      <td>...</td>\n",
       "      <td>...</td>\n",
       "      <td>...</td>\n",
       "      <td>...</td>\n",
       "      <td>...</td>\n",
       "      <td>...</td>\n",
       "      <td>...</td>\n",
       "      <td>...</td>\n",
       "    </tr>\n",
       "    <tr>\n",
       "      <th>9995</th>\n",
       "      <td>9996</td>\n",
       "      <td>15606229</td>\n",
       "      <td>Obijiaku</td>\n",
       "      <td>771</td>\n",
       "      <td>France</td>\n",
       "      <td>Male</td>\n",
       "      <td>39</td>\n",
       "      <td>5</td>\n",
       "      <td>0.00</td>\n",
       "      <td>2</td>\n",
       "      <td>1</td>\n",
       "      <td>0</td>\n",
       "      <td>96270.64</td>\n",
       "      <td>0</td>\n",
       "    </tr>\n",
       "    <tr>\n",
       "      <th>9996</th>\n",
       "      <td>9997</td>\n",
       "      <td>15569892</td>\n",
       "      <td>Johnstone</td>\n",
       "      <td>516</td>\n",
       "      <td>France</td>\n",
       "      <td>Male</td>\n",
       "      <td>35</td>\n",
       "      <td>10</td>\n",
       "      <td>57369.61</td>\n",
       "      <td>1</td>\n",
       "      <td>1</td>\n",
       "      <td>1</td>\n",
       "      <td>101699.77</td>\n",
       "      <td>0</td>\n",
       "    </tr>\n",
       "    <tr>\n",
       "      <th>9997</th>\n",
       "      <td>9998</td>\n",
       "      <td>15584532</td>\n",
       "      <td>Liu</td>\n",
       "      <td>709</td>\n",
       "      <td>France</td>\n",
       "      <td>Female</td>\n",
       "      <td>36</td>\n",
       "      <td>7</td>\n",
       "      <td>0.00</td>\n",
       "      <td>1</td>\n",
       "      <td>0</td>\n",
       "      <td>1</td>\n",
       "      <td>42085.58</td>\n",
       "      <td>1</td>\n",
       "    </tr>\n",
       "    <tr>\n",
       "      <th>9998</th>\n",
       "      <td>9999</td>\n",
       "      <td>15682355</td>\n",
       "      <td>Sabbatini</td>\n",
       "      <td>772</td>\n",
       "      <td>Germany</td>\n",
       "      <td>Male</td>\n",
       "      <td>42</td>\n",
       "      <td>3</td>\n",
       "      <td>75075.31</td>\n",
       "      <td>2</td>\n",
       "      <td>1</td>\n",
       "      <td>0</td>\n",
       "      <td>92888.52</td>\n",
       "      <td>1</td>\n",
       "    </tr>\n",
       "    <tr>\n",
       "      <th>9999</th>\n",
       "      <td>10000</td>\n",
       "      <td>15628319</td>\n",
       "      <td>Walker</td>\n",
       "      <td>792</td>\n",
       "      <td>France</td>\n",
       "      <td>Female</td>\n",
       "      <td>28</td>\n",
       "      <td>4</td>\n",
       "      <td>130142.79</td>\n",
       "      <td>1</td>\n",
       "      <td>1</td>\n",
       "      <td>0</td>\n",
       "      <td>38190.78</td>\n",
       "      <td>0</td>\n",
       "    </tr>\n",
       "  </tbody>\n",
       "</table>\n",
       "<p>10000 rows × 14 columns</p>\n",
       "</div>"
      ],
      "text/plain": [
       "      RowNumber  CustomerId    Surname  CreditScore Geography  Gender  Age  \\\n",
       "0             1    15634602   Hargrave          619    France  Female   42   \n",
       "1             2    15647311       Hill          608     Spain  Female   41   \n",
       "2             3    15619304       Onio          502    France  Female   42   \n",
       "3             4    15701354       Boni          699    France  Female   39   \n",
       "4             5    15737888   Mitchell          850     Spain  Female   43   \n",
       "...         ...         ...        ...          ...       ...     ...  ...   \n",
       "9995       9996    15606229   Obijiaku          771    France    Male   39   \n",
       "9996       9997    15569892  Johnstone          516    France    Male   35   \n",
       "9997       9998    15584532        Liu          709    France  Female   36   \n",
       "9998       9999    15682355  Sabbatini          772   Germany    Male   42   \n",
       "9999      10000    15628319     Walker          792    France  Female   28   \n",
       "\n",
       "      Tenure    Balance  NumOfProducts  HasCrCard  IsActiveMember  \\\n",
       "0          2       0.00              1          1               1   \n",
       "1          1   83807.86              1          0               1   \n",
       "2          8  159660.80              3          1               0   \n",
       "3          1       0.00              2          0               0   \n",
       "4          2  125510.82              1          1               1   \n",
       "...      ...        ...            ...        ...             ...   \n",
       "9995       5       0.00              2          1               0   \n",
       "9996      10   57369.61              1          1               1   \n",
       "9997       7       0.00              1          0               1   \n",
       "9998       3   75075.31              2          1               0   \n",
       "9999       4  130142.79              1          1               0   \n",
       "\n",
       "      EstimatedSalary  Exited  \n",
       "0           101348.88       1  \n",
       "1           112542.58       0  \n",
       "2           113931.57       1  \n",
       "3            93826.63       0  \n",
       "4            79084.10       0  \n",
       "...               ...     ...  \n",
       "9995         96270.64       0  \n",
       "9996        101699.77       0  \n",
       "9997         42085.58       1  \n",
       "9998         92888.52       1  \n",
       "9999         38190.78       0  \n",
       "\n",
       "[10000 rows x 14 columns]"
      ]
     },
     "execution_count": 205,
     "metadata": {},
     "output_type": "execute_result"
    }
   ],
   "source": [
    "Data = pd.read_csv('Churn_Modelling.csv')\n",
    "Data"
   ]
  },
  {
   "cell_type": "code",
   "execution_count": 206,
   "metadata": {},
   "outputs": [
    {
     "data": {
      "text/plain": [
       "(10000, 14)"
      ]
     },
     "execution_count": 206,
     "metadata": {},
     "output_type": "execute_result"
    }
   ],
   "source": [
    "Data.shape"
   ]
  },
  {
   "cell_type": "code",
   "execution_count": 207,
   "metadata": {},
   "outputs": [
    {
     "name": "stdout",
     "output_type": "stream",
     "text": [
      "<class 'pandas.core.frame.DataFrame'>\n",
      "RangeIndex: 10000 entries, 0 to 9999\n",
      "Data columns (total 14 columns):\n",
      " #   Column           Non-Null Count  Dtype  \n",
      "---  ------           --------------  -----  \n",
      " 0   RowNumber        10000 non-null  int64  \n",
      " 1   CustomerId       10000 non-null  int64  \n",
      " 2   Surname          10000 non-null  object \n",
      " 3   CreditScore      10000 non-null  int64  \n",
      " 4   Geography        10000 non-null  object \n",
      " 5   Gender           10000 non-null  object \n",
      " 6   Age              10000 non-null  int64  \n",
      " 7   Tenure           10000 non-null  int64  \n",
      " 8   Balance          10000 non-null  float64\n",
      " 9   NumOfProducts    10000 non-null  int64  \n",
      " 10  HasCrCard        10000 non-null  int64  \n",
      " 11  IsActiveMember   10000 non-null  int64  \n",
      " 12  EstimatedSalary  10000 non-null  float64\n",
      " 13  Exited           10000 non-null  int64  \n",
      "dtypes: float64(2), int64(9), object(3)\n",
      "memory usage: 1.1+ MB\n"
     ]
    }
   ],
   "source": [
    "Data.info()"
   ]
  },
  {
   "cell_type": "markdown",
   "metadata": {},
   "source": [
    "# Checking for duplicated Data "
   ]
  },
  {
   "cell_type": "code",
   "execution_count": 208,
   "metadata": {},
   "outputs": [
    {
     "data": {
      "text/plain": [
       "0"
      ]
     },
     "execution_count": 208,
     "metadata": {},
     "output_type": "execute_result"
    }
   ],
   "source": [
    "Data.duplicated().sum()"
   ]
  },
  {
   "cell_type": "markdown",
   "metadata": {},
   "source": [
    "# Dropping the Columns"
   ]
  },
  {
   "cell_type": "code",
   "execution_count": 209,
   "metadata": {},
   "outputs": [],
   "source": [
    "Data.drop(['RowNumber','CustomerId','Surname'],axis=1,inplace=True)"
   ]
  },
  {
   "cell_type": "code",
   "execution_count": 210,
   "metadata": {},
   "outputs": [
    {
     "data": {
      "text/plain": [
       "(10000, 11)"
      ]
     },
     "execution_count": 210,
     "metadata": {},
     "output_type": "execute_result"
    }
   ],
   "source": [
    "Data.shape"
   ]
  },
  {
   "cell_type": "markdown",
   "metadata": {},
   "source": [
    "# Encoding the cateegorical Columns"
   ]
  },
  {
   "cell_type": "code",
   "execution_count": 211,
   "metadata": {},
   "outputs": [],
   "source": [
    "Data = pd.get_dummies(data=Data,columns=['Geography','Gender'],drop_first=True)"
   ]
  },
  {
   "cell_type": "code",
   "execution_count": 212,
   "metadata": {},
   "outputs": [
    {
     "data": {
      "text/html": [
       "<div>\n",
       "<style scoped>\n",
       "    .dataframe tbody tr th:only-of-type {\n",
       "        vertical-align: middle;\n",
       "    }\n",
       "\n",
       "    .dataframe tbody tr th {\n",
       "        vertical-align: top;\n",
       "    }\n",
       "\n",
       "    .dataframe thead th {\n",
       "        text-align: right;\n",
       "    }\n",
       "</style>\n",
       "<table border=\"1\" class=\"dataframe\">\n",
       "  <thead>\n",
       "    <tr style=\"text-align: right;\">\n",
       "      <th></th>\n",
       "      <th>CreditScore</th>\n",
       "      <th>Age</th>\n",
       "      <th>Tenure</th>\n",
       "      <th>Balance</th>\n",
       "      <th>NumOfProducts</th>\n",
       "      <th>HasCrCard</th>\n",
       "      <th>IsActiveMember</th>\n",
       "      <th>EstimatedSalary</th>\n",
       "      <th>Exited</th>\n",
       "      <th>Geography_Germany</th>\n",
       "      <th>Geography_Spain</th>\n",
       "      <th>Gender_Male</th>\n",
       "    </tr>\n",
       "  </thead>\n",
       "  <tbody>\n",
       "    <tr>\n",
       "      <th>0</th>\n",
       "      <td>619</td>\n",
       "      <td>42</td>\n",
       "      <td>2</td>\n",
       "      <td>0.00</td>\n",
       "      <td>1</td>\n",
       "      <td>1</td>\n",
       "      <td>1</td>\n",
       "      <td>101348.88</td>\n",
       "      <td>1</td>\n",
       "      <td>0</td>\n",
       "      <td>0</td>\n",
       "      <td>0</td>\n",
       "    </tr>\n",
       "    <tr>\n",
       "      <th>1</th>\n",
       "      <td>608</td>\n",
       "      <td>41</td>\n",
       "      <td>1</td>\n",
       "      <td>83807.86</td>\n",
       "      <td>1</td>\n",
       "      <td>0</td>\n",
       "      <td>1</td>\n",
       "      <td>112542.58</td>\n",
       "      <td>0</td>\n",
       "      <td>0</td>\n",
       "      <td>1</td>\n",
       "      <td>0</td>\n",
       "    </tr>\n",
       "    <tr>\n",
       "      <th>2</th>\n",
       "      <td>502</td>\n",
       "      <td>42</td>\n",
       "      <td>8</td>\n",
       "      <td>159660.80</td>\n",
       "      <td>3</td>\n",
       "      <td>1</td>\n",
       "      <td>0</td>\n",
       "      <td>113931.57</td>\n",
       "      <td>1</td>\n",
       "      <td>0</td>\n",
       "      <td>0</td>\n",
       "      <td>0</td>\n",
       "    </tr>\n",
       "    <tr>\n",
       "      <th>3</th>\n",
       "      <td>699</td>\n",
       "      <td>39</td>\n",
       "      <td>1</td>\n",
       "      <td>0.00</td>\n",
       "      <td>2</td>\n",
       "      <td>0</td>\n",
       "      <td>0</td>\n",
       "      <td>93826.63</td>\n",
       "      <td>0</td>\n",
       "      <td>0</td>\n",
       "      <td>0</td>\n",
       "      <td>0</td>\n",
       "    </tr>\n",
       "    <tr>\n",
       "      <th>4</th>\n",
       "      <td>850</td>\n",
       "      <td>43</td>\n",
       "      <td>2</td>\n",
       "      <td>125510.82</td>\n",
       "      <td>1</td>\n",
       "      <td>1</td>\n",
       "      <td>1</td>\n",
       "      <td>79084.10</td>\n",
       "      <td>0</td>\n",
       "      <td>0</td>\n",
       "      <td>1</td>\n",
       "      <td>0</td>\n",
       "    </tr>\n",
       "  </tbody>\n",
       "</table>\n",
       "</div>"
      ],
      "text/plain": [
       "   CreditScore  Age  Tenure    Balance  NumOfProducts  HasCrCard  \\\n",
       "0          619   42       2       0.00              1          1   \n",
       "1          608   41       1   83807.86              1          0   \n",
       "2          502   42       8  159660.80              3          1   \n",
       "3          699   39       1       0.00              2          0   \n",
       "4          850   43       2  125510.82              1          1   \n",
       "\n",
       "   IsActiveMember  EstimatedSalary  Exited  Geography_Germany  \\\n",
       "0               1        101348.88       1                  0   \n",
       "1               1        112542.58       0                  0   \n",
       "2               0        113931.57       1                  0   \n",
       "3               0         93826.63       0                  0   \n",
       "4               1         79084.10       0                  0   \n",
       "\n",
       "   Geography_Spain  Gender_Male  \n",
       "0                0            0  \n",
       "1                1            0  \n",
       "2                0            0  \n",
       "3                0            0  \n",
       "4                1            0  "
      ]
     },
     "execution_count": 212,
     "metadata": {},
     "output_type": "execute_result"
    }
   ],
   "source": [
    "Data.head()"
   ]
  },
  {
   "cell_type": "markdown",
   "metadata": {},
   "source": [
    "# Splitting the Data set "
   ]
  },
  {
   "cell_type": "code",
   "execution_count": 213,
   "metadata": {},
   "outputs": [],
   "source": [
    "X = Data.drop('Exited',axis=1)\n",
    "y = Data['Exited']"
   ]
  },
  {
   "cell_type": "code",
   "execution_count": 214,
   "metadata": {},
   "outputs": [],
   "source": [
    "from sklearn.model_selection import train_test_split\n",
    "X_train, X_test, y_train, y_test = train_test_split(X, y, test_size=0.2, random_state=42)"
   ]
  },
  {
   "cell_type": "code",
   "execution_count": 215,
   "metadata": {},
   "outputs": [
    {
     "data": {
      "text/plain": [
       "(8000, 11)"
      ]
     },
     "execution_count": 215,
     "metadata": {},
     "output_type": "execute_result"
    }
   ],
   "source": [
    "X_train.shape"
   ]
  },
  {
   "cell_type": "code",
   "execution_count": 216,
   "metadata": {},
   "outputs": [
    {
     "data": {
      "text/plain": [
       "(2000, 11)"
      ]
     },
     "execution_count": 216,
     "metadata": {},
     "output_type": "execute_result"
    }
   ],
   "source": [
    "X_test.shape"
   ]
  },
  {
   "cell_type": "markdown",
   "metadata": {},
   "source": [
    "# Feature Scaling "
   ]
  },
  {
   "cell_type": "code",
   "execution_count": 217,
   "metadata": {},
   "outputs": [],
   "source": [
    "from sklearn.preprocessing import StandardScaler\n",
    "SC = StandardScaler()"
   ]
  },
  {
   "cell_type": "code",
   "execution_count": 218,
   "metadata": {},
   "outputs": [],
   "source": [
    "X_train = SC.fit_transform(X_train)\n",
    "X_test = SC.transform(X_test)"
   ]
  },
  {
   "cell_type": "code",
   "execution_count": 219,
   "metadata": {},
   "outputs": [
    {
     "data": {
      "text/plain": [
       "array([[ 0.35649971, -0.6557859 ,  0.34567966, ..., -0.57946723,\n",
       "        -0.57638802,  0.91324755],\n",
       "       [-0.20389777,  0.29493847, -0.3483691 , ...,  1.72572313,\n",
       "        -0.57638802,  0.91324755],\n",
       "       [-0.96147213, -1.41636539, -0.69539349, ..., -0.57946723,\n",
       "         1.73494238,  0.91324755],\n",
       "       ...,\n",
       "       [ 0.86500853, -0.08535128, -1.38944225, ..., -0.57946723,\n",
       "        -0.57638802, -1.09499335],\n",
       "       [ 0.15932282,  0.3900109 ,  1.03972843, ..., -0.57946723,\n",
       "        -0.57638802,  0.91324755],\n",
       "       [ 0.47065475,  1.15059039, -1.38944225, ...,  1.72572313,\n",
       "        -0.57638802,  0.91324755]])"
      ]
     },
     "execution_count": 219,
     "metadata": {},
     "output_type": "execute_result"
    }
   ],
   "source": [
    "X_train"
   ]
  },
  {
   "cell_type": "code",
   "execution_count": 220,
   "metadata": {},
   "outputs": [
    {
     "data": {
      "text/plain": [
       "array([[-0.57749609, -0.6557859 , -0.69539349, ...,  1.72572313,\n",
       "        -0.57638802,  0.91324755],\n",
       "       [-0.29729735,  0.3900109 , -1.38944225, ..., -0.57946723,\n",
       "        -0.57638802,  0.91324755],\n",
       "       [-0.52560743,  0.48508334, -0.3483691 , ..., -0.57946723,\n",
       "         1.73494238, -1.09499335],\n",
       "       ...,\n",
       "       [ 0.81311987,  0.77030065,  0.69270405, ..., -0.57946723,\n",
       "        -0.57638802, -1.09499335],\n",
       "       [ 0.41876609, -0.94100321, -0.3483691 , ..., -0.57946723,\n",
       "        -0.57638802,  0.91324755],\n",
       "       [-0.24540869,  0.00972116, -1.38944225, ...,  1.72572313,\n",
       "        -0.57638802,  0.91324755]])"
      ]
     },
     "execution_count": 220,
     "metadata": {},
     "output_type": "execute_result"
    }
   ],
   "source": [
    "X_test"
   ]
  },
  {
   "cell_type": "markdown",
   "metadata": {},
   "source": [
    "# Bulding the Artifical Neural Network "
   ]
  },
  {
   "cell_type": "code",
   "execution_count": 221,
   "metadata": {},
   "outputs": [],
   "source": [
    "import tensorflow \n",
    "from tensorflow import keras \n",
    "from tensorflow.keras import Sequential \n",
    "from keras.layers import Dense\n"
   ]
  },
  {
   "cell_type": "code",
   "execution_count": 222,
   "metadata": {},
   "outputs": [],
   "source": [
    "model = Sequential()\n",
    "\n",
    "model.add((Dense(3, activation='sigmoid',input_dim=11)))\n",
    "model.add(Dense(1,activation='sigmoid'))"
   ]
  },
  {
   "cell_type": "code",
   "execution_count": 223,
   "metadata": {},
   "outputs": [
    {
     "name": "stdout",
     "output_type": "stream",
     "text": [
      "Model: \"sequential_9\"\n",
      "_________________________________________________________________\n",
      " Layer (type)                Output Shape              Param #   \n",
      "=================================================================\n",
      " dense_22 (Dense)            (None, 3)                 36        \n",
      "                                                                 \n",
      " dense_23 (Dense)            (None, 1)                 4         \n",
      "                                                                 \n",
      "=================================================================\n",
      "Total params: 40\n",
      "Trainable params: 40\n",
      "Non-trainable params: 0\n",
      "_________________________________________________________________\n"
     ]
    }
   ],
   "source": [
    "model.summary()"
   ]
  },
  {
   "cell_type": "code",
   "execution_count": 224,
   "metadata": {},
   "outputs": [],
   "source": [
    "model.compile(loss='binary_crossentropy', optimizer='Adam',metrics=['accuracy'])"
   ]
  },
  {
   "cell_type": "code",
   "execution_count": 225,
   "metadata": {},
   "outputs": [
    {
     "name": "stdout",
     "output_type": "stream",
     "text": [
      "Epoch 1/10\n",
      "197/200 [============================>.] - ETA: 0s - loss: 0.6189 - accuracy: 0.7253"
     ]
    },
    {
     "name": "stdout",
     "output_type": "stream",
     "text": [
      "200/200 [==============================] - 1s 4ms/step - loss: 0.6180 - accuracy: 0.7269 - val_loss: 0.5633 - val_accuracy: 0.7987\n",
      "Epoch 2/10\n",
      "200/200 [==============================] - 0s 2ms/step - loss: 0.5419 - accuracy: 0.7934 - val_loss: 0.5115 - val_accuracy: 0.7987\n",
      "Epoch 3/10\n",
      "200/200 [==============================] - 0s 2ms/step - loss: 0.5076 - accuracy: 0.7934 - val_loss: 0.4862 - val_accuracy: 0.7987\n",
      "Epoch 4/10\n",
      "200/200 [==============================] - 0s 2ms/step - loss: 0.4894 - accuracy: 0.7934 - val_loss: 0.4706 - val_accuracy: 0.7987\n",
      "Epoch 5/10\n",
      "200/200 [==============================] - 0s 2ms/step - loss: 0.4769 - accuracy: 0.7934 - val_loss: 0.4590 - val_accuracy: 0.7987\n",
      "Epoch 6/10\n",
      "200/200 [==============================] - 0s 2ms/step - loss: 0.4670 - accuracy: 0.7934 - val_loss: 0.4496 - val_accuracy: 0.7987\n",
      "Epoch 7/10\n",
      "200/200 [==============================] - 0s 2ms/step - loss: 0.4588 - accuracy: 0.7934 - val_loss: 0.4419 - val_accuracy: 0.7987\n",
      "Epoch 8/10\n",
      "200/200 [==============================] - 0s 2ms/step - loss: 0.4518 - accuracy: 0.7934 - val_loss: 0.4354 - val_accuracy: 0.7987\n",
      "Epoch 9/10\n",
      "200/200 [==============================] - 0s 2ms/step - loss: 0.4461 - accuracy: 0.7934 - val_loss: 0.4306 - val_accuracy: 0.7987\n",
      "Epoch 10/10\n",
      "200/200 [==============================] - 0s 2ms/step - loss: 0.4419 - accuracy: 0.7937 - val_loss: 0.4271 - val_accuracy: 0.8019\n"
     ]
    }
   ],
   "source": [
    "history = model.fit(X_train,y_train,epochs=10, validation_split=0.2)"
   ]
  },
  {
   "cell_type": "code",
   "execution_count": 226,
   "metadata": {},
   "outputs": [
    {
     "data": {
      "text/plain": [
       "[array([[ 1.02415614e-01,  6.91486821e-02,  1.88134119e-01],\n",
       "        [-9.81450737e-01,  1.49919116e+00, -1.28115070e+00],\n",
       "        [ 2.14129508e-01,  3.17808956e-01, -2.89394796e-01],\n",
       "        [-5.93393743e-01, -7.08498657e-02, -3.79781164e-02],\n",
       "        [-4.82975617e-02, -2.35358234e-02,  1.28818691e-01],\n",
       "        [ 5.40366955e-02, -1.09933347e-01, -1.05218463e-01],\n",
       "        [ 5.42389512e-01, -4.14069504e-01,  7.14440167e-01],\n",
       "        [ 5.28099835e-02,  3.72312628e-02, -3.40046227e-01],\n",
       "        [-3.12168032e-01,  5.98870218e-01, -6.12759829e-01],\n",
       "        [ 1.96974903e-01,  3.92811537e-01, -2.33920634e-01],\n",
       "        [ 6.32733881e-01, -7.93046355e-02,  1.24892290e-03]], dtype=float32),\n",
       " array([ 0.47038794, -0.29488134,  0.07318594], dtype=float32)]"
      ]
     },
     "execution_count": 226,
     "metadata": {},
     "output_type": "execute_result"
    }
   ],
   "source": [
    "model.layers[0].get_weights()"
   ]
  },
  {
   "cell_type": "code",
   "execution_count": 227,
   "metadata": {},
   "outputs": [
    {
     "data": {
      "text/plain": [
       "[array([[-1.7562501 ],\n",
       "        [ 0.50280637],\n",
       "        [-0.5031319 ]], dtype=float32),\n",
       " array([-0.43727928], dtype=float32)]"
      ]
     },
     "execution_count": 227,
     "metadata": {},
     "output_type": "execute_result"
    }
   ],
   "source": [
    "model.layers[1].get_weights()"
   ]
  },
  {
   "cell_type": "code",
   "execution_count": 228,
   "metadata": {},
   "outputs": [
    {
     "name": "stdout",
     "output_type": "stream",
     "text": [
      " 1/63 [..............................] - ETA: 3s"
     ]
    },
    {
     "name": "stdout",
     "output_type": "stream",
     "text": [
      "63/63 [==============================] - 0s 2ms/step\n"
     ]
    }
   ],
   "source": [
    "y_p = model.predict(X_test)"
   ]
  },
  {
   "cell_type": "code",
   "execution_count": 229,
   "metadata": {},
   "outputs": [],
   "source": [
    "y_pred = np.where(y_p>0.5,1,0)"
   ]
  },
  {
   "cell_type": "code",
   "execution_count": 230,
   "metadata": {},
   "outputs": [
    {
     "data": {
      "text/plain": [
       "array([[0],\n",
       "       [0],\n",
       "       [0],\n",
       "       ...,\n",
       "       [0],\n",
       "       [0],\n",
       "       [0]])"
      ]
     },
     "execution_count": 230,
     "metadata": {},
     "output_type": "execute_result"
    }
   ],
   "source": [
    "y_pred"
   ]
  },
  {
   "cell_type": "code",
   "execution_count": 231,
   "metadata": {},
   "outputs": [
    {
     "data": {
      "text/plain": [
       "0.8055"
      ]
     },
     "execution_count": 231,
     "metadata": {},
     "output_type": "execute_result"
    }
   ],
   "source": [
    "from sklearn.metrics import accuracy_score\n",
    "accuracy_score(y_test,y_pred)"
   ]
  },
  {
   "cell_type": "markdown",
   "metadata": {},
   "source": [
    "# Improving the Model Performance by Changing some Parameters "
   ]
  },
  {
   "cell_type": "code",
   "execution_count": 232,
   "metadata": {},
   "outputs": [],
   "source": [
    "model = Sequential()\n",
    "\n",
    "model.add((Dense(11, activation='relu',input_dim=11)))\n",
    "model.add(Dense(11,activation='relu'))\n",
    "model.add(Dense(1,activation='sigmoid'))"
   ]
  },
  {
   "cell_type": "code",
   "execution_count": 233,
   "metadata": {},
   "outputs": [
    {
     "name": "stdout",
     "output_type": "stream",
     "text": [
      "Model: \"sequential_10\"\n",
      "_________________________________________________________________\n",
      " Layer (type)                Output Shape              Param #   \n",
      "=================================================================\n",
      " dense_24 (Dense)            (None, 11)                132       \n",
      "                                                                 \n",
      " dense_25 (Dense)            (None, 11)                132       \n",
      "                                                                 \n",
      " dense_26 (Dense)            (None, 1)                 12        \n",
      "                                                                 \n",
      "=================================================================\n",
      "Total params: 276\n",
      "Trainable params: 276\n",
      "Non-trainable params: 0\n",
      "_________________________________________________________________\n"
     ]
    }
   ],
   "source": [
    "model.summary()"
   ]
  },
  {
   "cell_type": "code",
   "execution_count": 234,
   "metadata": {},
   "outputs": [],
   "source": [
    "model.compile(loss='binary_crossentropy', optimizer='Adam',metrics=['accuracy'])"
   ]
  },
  {
   "cell_type": "code",
   "execution_count": 235,
   "metadata": {},
   "outputs": [
    {
     "name": "stdout",
     "output_type": "stream",
     "text": [
      "Epoch 1/100\n"
     ]
    },
    {
     "name": "stdout",
     "output_type": "stream",
     "text": [
      "200/200 [==============================] - 1s 2ms/step - loss: 0.5869 - accuracy: 0.6953 - val_loss: 0.4639 - val_accuracy: 0.8056\n",
      "Epoch 2/100\n",
      "200/200 [==============================] - 0s 2ms/step - loss: 0.4613 - accuracy: 0.7998 - val_loss: 0.4284 - val_accuracy: 0.8200\n",
      "Epoch 3/100\n",
      "200/200 [==============================] - 0s 2ms/step - loss: 0.4372 - accuracy: 0.8067 - val_loss: 0.4161 - val_accuracy: 0.8238\n",
      "Epoch 4/100\n",
      "200/200 [==============================] - 0s 2ms/step - loss: 0.4239 - accuracy: 0.8123 - val_loss: 0.4087 - val_accuracy: 0.8275\n",
      "Epoch 5/100\n",
      "200/200 [==============================] - 0s 2ms/step - loss: 0.4115 - accuracy: 0.8225 - val_loss: 0.3980 - val_accuracy: 0.8406\n",
      "Epoch 6/100\n",
      "200/200 [==============================] - 0s 2ms/step - loss: 0.3971 - accuracy: 0.8388 - val_loss: 0.3885 - val_accuracy: 0.8469\n",
      "Epoch 7/100\n",
      "200/200 [==============================] - 0s 2ms/step - loss: 0.3826 - accuracy: 0.8492 - val_loss: 0.3773 - val_accuracy: 0.8487\n",
      "Epoch 8/100\n",
      "200/200 [==============================] - 0s 2ms/step - loss: 0.3705 - accuracy: 0.8517 - val_loss: 0.3695 - val_accuracy: 0.8531\n",
      "Epoch 9/100\n",
      "200/200 [==============================] - 0s 2ms/step - loss: 0.3616 - accuracy: 0.8555 - val_loss: 0.3635 - val_accuracy: 0.8562\n",
      "Epoch 10/100\n",
      "200/200 [==============================] - 0s 2ms/step - loss: 0.3557 - accuracy: 0.8547 - val_loss: 0.3593 - val_accuracy: 0.8594\n",
      "Epoch 11/100\n",
      "200/200 [==============================] - 0s 2ms/step - loss: 0.3518 - accuracy: 0.8539 - val_loss: 0.3565 - val_accuracy: 0.8556\n",
      "Epoch 12/100\n",
      "200/200 [==============================] - 0s 2ms/step - loss: 0.3497 - accuracy: 0.8570 - val_loss: 0.3547 - val_accuracy: 0.8562\n",
      "Epoch 13/100\n",
      "200/200 [==============================] - 0s 2ms/step - loss: 0.3471 - accuracy: 0.8580 - val_loss: 0.3517 - val_accuracy: 0.8575\n",
      "Epoch 14/100\n",
      "200/200 [==============================] - 0s 2ms/step - loss: 0.3461 - accuracy: 0.8569 - val_loss: 0.3503 - val_accuracy: 0.8562\n",
      "Epoch 15/100\n",
      "200/200 [==============================] - 0s 2ms/step - loss: 0.3436 - accuracy: 0.8597 - val_loss: 0.3496 - val_accuracy: 0.8562\n",
      "Epoch 16/100\n",
      "200/200 [==============================] - 0s 2ms/step - loss: 0.3426 - accuracy: 0.8586 - val_loss: 0.3486 - val_accuracy: 0.8569\n",
      "Epoch 17/100\n",
      "200/200 [==============================] - 0s 2ms/step - loss: 0.3409 - accuracy: 0.8587 - val_loss: 0.3481 - val_accuracy: 0.8569\n",
      "Epoch 18/100\n",
      "200/200 [==============================] - 0s 2ms/step - loss: 0.3399 - accuracy: 0.8597 - val_loss: 0.3489 - val_accuracy: 0.8556\n",
      "Epoch 19/100\n",
      "200/200 [==============================] - 0s 2ms/step - loss: 0.3392 - accuracy: 0.8614 - val_loss: 0.3468 - val_accuracy: 0.8575\n",
      "Epoch 20/100\n",
      "200/200 [==============================] - 0s 2ms/step - loss: 0.3382 - accuracy: 0.8617 - val_loss: 0.3457 - val_accuracy: 0.8556\n",
      "Epoch 21/100\n",
      "200/200 [==============================] - 0s 2ms/step - loss: 0.3377 - accuracy: 0.8609 - val_loss: 0.3450 - val_accuracy: 0.8562\n",
      "Epoch 22/100\n",
      "200/200 [==============================] - 0s 2ms/step - loss: 0.3369 - accuracy: 0.8609 - val_loss: 0.3448 - val_accuracy: 0.8556\n",
      "Epoch 23/100\n",
      "200/200 [==============================] - 0s 2ms/step - loss: 0.3362 - accuracy: 0.8631 - val_loss: 0.3441 - val_accuracy: 0.8562\n",
      "Epoch 24/100\n",
      "200/200 [==============================] - 1s 3ms/step - loss: 0.3356 - accuracy: 0.8620 - val_loss: 0.3443 - val_accuracy: 0.8575\n",
      "Epoch 25/100\n",
      "200/200 [==============================] - 1s 3ms/step - loss: 0.3350 - accuracy: 0.8637 - val_loss: 0.3442 - val_accuracy: 0.8594\n",
      "Epoch 26/100\n",
      "200/200 [==============================] - 0s 2ms/step - loss: 0.3344 - accuracy: 0.8617 - val_loss: 0.3432 - val_accuracy: 0.8581\n",
      "Epoch 27/100\n",
      "200/200 [==============================] - 1s 3ms/step - loss: 0.3341 - accuracy: 0.8631 - val_loss: 0.3439 - val_accuracy: 0.8581\n",
      "Epoch 28/100\n",
      "200/200 [==============================] - 1s 3ms/step - loss: 0.3338 - accuracy: 0.8619 - val_loss: 0.3438 - val_accuracy: 0.8575\n",
      "Epoch 29/100\n",
      "200/200 [==============================] - 1s 3ms/step - loss: 0.3328 - accuracy: 0.8622 - val_loss: 0.3427 - val_accuracy: 0.8581\n",
      "Epoch 30/100\n",
      "200/200 [==============================] - 1s 3ms/step - loss: 0.3324 - accuracy: 0.8655 - val_loss: 0.3426 - val_accuracy: 0.8619\n",
      "Epoch 31/100\n",
      "200/200 [==============================] - 1s 3ms/step - loss: 0.3330 - accuracy: 0.8634 - val_loss: 0.3432 - val_accuracy: 0.8581\n",
      "Epoch 32/100\n",
      "200/200 [==============================] - 1s 3ms/step - loss: 0.3321 - accuracy: 0.8642 - val_loss: 0.3417 - val_accuracy: 0.8612\n",
      "Epoch 33/100\n",
      "200/200 [==============================] - 1s 3ms/step - loss: 0.3310 - accuracy: 0.8655 - val_loss: 0.3420 - val_accuracy: 0.8587\n",
      "Epoch 34/100\n",
      "200/200 [==============================] - 0s 2ms/step - loss: 0.3311 - accuracy: 0.8650 - val_loss: 0.3423 - val_accuracy: 0.8594\n",
      "Epoch 35/100\n",
      "200/200 [==============================] - 1s 3ms/step - loss: 0.3305 - accuracy: 0.8669 - val_loss: 0.3413 - val_accuracy: 0.8631\n",
      "Epoch 36/100\n",
      "200/200 [==============================] - 1s 3ms/step - loss: 0.3302 - accuracy: 0.8642 - val_loss: 0.3418 - val_accuracy: 0.8587\n",
      "Epoch 37/100\n",
      "200/200 [==============================] - 0s 2ms/step - loss: 0.3296 - accuracy: 0.8661 - val_loss: 0.3409 - val_accuracy: 0.8606\n",
      "Epoch 38/100\n",
      "200/200 [==============================] - 0s 2ms/step - loss: 0.3292 - accuracy: 0.8636 - val_loss: 0.3411 - val_accuracy: 0.8637\n",
      "Epoch 39/100\n",
      "200/200 [==============================] - 0s 2ms/step - loss: 0.3295 - accuracy: 0.8628 - val_loss: 0.3417 - val_accuracy: 0.8612\n",
      "Epoch 40/100\n",
      "200/200 [==============================] - 0s 2ms/step - loss: 0.3289 - accuracy: 0.8639 - val_loss: 0.3426 - val_accuracy: 0.8606\n",
      "Epoch 41/100\n",
      "200/200 [==============================] - 0s 2ms/step - loss: 0.3291 - accuracy: 0.8666 - val_loss: 0.3409 - val_accuracy: 0.8625\n",
      "Epoch 42/100\n",
      "200/200 [==============================] - 1s 3ms/step - loss: 0.3282 - accuracy: 0.8656 - val_loss: 0.3418 - val_accuracy: 0.8606\n",
      "Epoch 43/100\n",
      "200/200 [==============================] - 0s 2ms/step - loss: 0.3283 - accuracy: 0.8655 - val_loss: 0.3412 - val_accuracy: 0.8631\n",
      "Epoch 44/100\n",
      "200/200 [==============================] - 0s 2ms/step - loss: 0.3281 - accuracy: 0.8642 - val_loss: 0.3406 - val_accuracy: 0.8612\n",
      "Epoch 45/100\n",
      "200/200 [==============================] - 0s 2ms/step - loss: 0.3280 - accuracy: 0.8653 - val_loss: 0.3406 - val_accuracy: 0.8625\n",
      "Epoch 46/100\n",
      "200/200 [==============================] - 0s 2ms/step - loss: 0.3273 - accuracy: 0.8652 - val_loss: 0.3403 - val_accuracy: 0.8625\n",
      "Epoch 47/100\n",
      "200/200 [==============================] - 0s 2ms/step - loss: 0.3275 - accuracy: 0.8653 - val_loss: 0.3399 - val_accuracy: 0.8594\n",
      "Epoch 48/100\n",
      "200/200 [==============================] - 0s 2ms/step - loss: 0.3277 - accuracy: 0.8645 - val_loss: 0.3399 - val_accuracy: 0.8606\n",
      "Epoch 49/100\n",
      "200/200 [==============================] - 0s 2ms/step - loss: 0.3268 - accuracy: 0.8644 - val_loss: 0.3403 - val_accuracy: 0.8587\n",
      "Epoch 50/100\n",
      "200/200 [==============================] - 0s 2ms/step - loss: 0.3269 - accuracy: 0.8656 - val_loss: 0.3408 - val_accuracy: 0.8644\n",
      "Epoch 51/100\n",
      "200/200 [==============================] - 0s 2ms/step - loss: 0.3269 - accuracy: 0.8637 - val_loss: 0.3400 - val_accuracy: 0.8625\n",
      "Epoch 52/100\n",
      "200/200 [==============================] - 0s 2ms/step - loss: 0.3269 - accuracy: 0.8637 - val_loss: 0.3399 - val_accuracy: 0.8625\n",
      "Epoch 53/100\n",
      "200/200 [==============================] - 0s 2ms/step - loss: 0.3260 - accuracy: 0.8658 - val_loss: 0.3403 - val_accuracy: 0.8612\n",
      "Epoch 54/100\n",
      "200/200 [==============================] - 0s 2ms/step - loss: 0.3257 - accuracy: 0.8652 - val_loss: 0.3393 - val_accuracy: 0.8587\n",
      "Epoch 55/100\n",
      "200/200 [==============================] - 0s 2ms/step - loss: 0.3260 - accuracy: 0.8664 - val_loss: 0.3401 - val_accuracy: 0.8625\n",
      "Epoch 56/100\n",
      "200/200 [==============================] - 0s 2ms/step - loss: 0.3261 - accuracy: 0.8650 - val_loss: 0.3397 - val_accuracy: 0.8600\n",
      "Epoch 57/100\n",
      "200/200 [==============================] - 0s 2ms/step - loss: 0.3262 - accuracy: 0.8637 - val_loss: 0.3395 - val_accuracy: 0.8625\n",
      "Epoch 58/100\n",
      "200/200 [==============================] - 0s 2ms/step - loss: 0.3259 - accuracy: 0.8656 - val_loss: 0.3405 - val_accuracy: 0.8612\n",
      "Epoch 59/100\n",
      "200/200 [==============================] - 0s 2ms/step - loss: 0.3257 - accuracy: 0.8645 - val_loss: 0.3399 - val_accuracy: 0.8594\n",
      "Epoch 60/100\n",
      "200/200 [==============================] - 0s 2ms/step - loss: 0.3258 - accuracy: 0.8666 - val_loss: 0.3400 - val_accuracy: 0.8612\n",
      "Epoch 61/100\n",
      "200/200 [==============================] - 0s 2ms/step - loss: 0.3253 - accuracy: 0.8669 - val_loss: 0.3395 - val_accuracy: 0.8600\n",
      "Epoch 62/100\n",
      "200/200 [==============================] - 0s 2ms/step - loss: 0.3247 - accuracy: 0.8661 - val_loss: 0.3398 - val_accuracy: 0.8631\n",
      "Epoch 63/100\n",
      "200/200 [==============================] - 0s 2ms/step - loss: 0.3251 - accuracy: 0.8669 - val_loss: 0.3389 - val_accuracy: 0.8612\n",
      "Epoch 64/100\n",
      "200/200 [==============================] - 0s 2ms/step - loss: 0.3247 - accuracy: 0.8666 - val_loss: 0.3400 - val_accuracy: 0.8606\n",
      "Epoch 65/100\n",
      "200/200 [==============================] - 0s 2ms/step - loss: 0.3245 - accuracy: 0.8680 - val_loss: 0.3400 - val_accuracy: 0.8625\n",
      "Epoch 66/100\n",
      "200/200 [==============================] - 0s 2ms/step - loss: 0.3251 - accuracy: 0.8655 - val_loss: 0.3389 - val_accuracy: 0.8600\n",
      "Epoch 67/100\n",
      "200/200 [==============================] - 1s 3ms/step - loss: 0.3246 - accuracy: 0.8672 - val_loss: 0.3408 - val_accuracy: 0.8625\n",
      "Epoch 68/100\n",
      "200/200 [==============================] - 1s 3ms/step - loss: 0.3253 - accuracy: 0.8662 - val_loss: 0.3396 - val_accuracy: 0.8606\n",
      "Epoch 69/100\n",
      "200/200 [==============================] - 1s 3ms/step - loss: 0.3243 - accuracy: 0.8653 - val_loss: 0.3392 - val_accuracy: 0.8606\n",
      "Epoch 70/100\n",
      "200/200 [==============================] - 1s 3ms/step - loss: 0.3252 - accuracy: 0.8683 - val_loss: 0.3404 - val_accuracy: 0.8619\n",
      "Epoch 71/100\n",
      "200/200 [==============================] - 0s 2ms/step - loss: 0.3249 - accuracy: 0.8645 - val_loss: 0.3397 - val_accuracy: 0.8644\n",
      "Epoch 72/100\n",
      "200/200 [==============================] - 1s 2ms/step - loss: 0.3246 - accuracy: 0.8664 - val_loss: 0.3400 - val_accuracy: 0.8619\n",
      "Epoch 73/100\n",
      "200/200 [==============================] - 1s 3ms/step - loss: 0.3244 - accuracy: 0.8658 - val_loss: 0.3393 - val_accuracy: 0.8612\n",
      "Epoch 74/100\n",
      "200/200 [==============================] - 1s 3ms/step - loss: 0.3247 - accuracy: 0.8647 - val_loss: 0.3395 - val_accuracy: 0.8606\n",
      "Epoch 75/100\n",
      "200/200 [==============================] - 1s 3ms/step - loss: 0.3238 - accuracy: 0.8684 - val_loss: 0.3385 - val_accuracy: 0.8612\n",
      "Epoch 76/100\n",
      "200/200 [==============================] - 1s 3ms/step - loss: 0.3241 - accuracy: 0.8653 - val_loss: 0.3393 - val_accuracy: 0.8606\n",
      "Epoch 77/100\n",
      "200/200 [==============================] - 1s 3ms/step - loss: 0.3244 - accuracy: 0.8659 - val_loss: 0.3424 - val_accuracy: 0.8612\n",
      "Epoch 78/100\n",
      "200/200 [==============================] - 1s 3ms/step - loss: 0.3239 - accuracy: 0.8662 - val_loss: 0.3413 - val_accuracy: 0.8600\n",
      "Epoch 79/100\n",
      "200/200 [==============================] - 1s 3ms/step - loss: 0.3237 - accuracy: 0.8672 - val_loss: 0.3394 - val_accuracy: 0.8587\n",
      "Epoch 80/100\n",
      "200/200 [==============================] - 0s 2ms/step - loss: 0.3243 - accuracy: 0.8666 - val_loss: 0.3395 - val_accuracy: 0.8606\n",
      "Epoch 81/100\n",
      "200/200 [==============================] - 0s 2ms/step - loss: 0.3238 - accuracy: 0.8662 - val_loss: 0.3392 - val_accuracy: 0.8606\n",
      "Epoch 82/100\n",
      "200/200 [==============================] - 0s 2ms/step - loss: 0.3240 - accuracy: 0.8667 - val_loss: 0.3400 - val_accuracy: 0.8625\n",
      "Epoch 83/100\n",
      "200/200 [==============================] - 0s 2ms/step - loss: 0.3237 - accuracy: 0.8661 - val_loss: 0.3402 - val_accuracy: 0.8625\n",
      "Epoch 84/100\n",
      "200/200 [==============================] - 0s 2ms/step - loss: 0.3232 - accuracy: 0.8664 - val_loss: 0.3402 - val_accuracy: 0.8594\n",
      "Epoch 85/100\n",
      "200/200 [==============================] - 0s 2ms/step - loss: 0.3240 - accuracy: 0.8669 - val_loss: 0.3395 - val_accuracy: 0.8600\n",
      "Epoch 86/100\n",
      "200/200 [==============================] - 0s 2ms/step - loss: 0.3236 - accuracy: 0.8666 - val_loss: 0.3393 - val_accuracy: 0.8594\n",
      "Epoch 87/100\n",
      "200/200 [==============================] - 0s 2ms/step - loss: 0.3233 - accuracy: 0.8664 - val_loss: 0.3393 - val_accuracy: 0.8619\n",
      "Epoch 88/100\n",
      "200/200 [==============================] - 0s 2ms/step - loss: 0.3238 - accuracy: 0.8662 - val_loss: 0.3404 - val_accuracy: 0.8606\n",
      "Epoch 89/100\n",
      "200/200 [==============================] - 0s 2ms/step - loss: 0.3229 - accuracy: 0.8664 - val_loss: 0.3390 - val_accuracy: 0.8606\n",
      "Epoch 90/100\n",
      "200/200 [==============================] - 0s 2ms/step - loss: 0.3231 - accuracy: 0.8681 - val_loss: 0.3389 - val_accuracy: 0.8619\n",
      "Epoch 91/100\n",
      "200/200 [==============================] - 0s 2ms/step - loss: 0.3232 - accuracy: 0.8678 - val_loss: 0.3388 - val_accuracy: 0.8594\n",
      "Epoch 92/100\n",
      "200/200 [==============================] - 0s 2ms/step - loss: 0.3230 - accuracy: 0.8658 - val_loss: 0.3385 - val_accuracy: 0.8612\n",
      "Epoch 93/100\n",
      "200/200 [==============================] - 0s 2ms/step - loss: 0.3230 - accuracy: 0.8662 - val_loss: 0.3392 - val_accuracy: 0.8612\n",
      "Epoch 94/100\n",
      "200/200 [==============================] - 0s 2ms/step - loss: 0.3226 - accuracy: 0.8675 - val_loss: 0.3399 - val_accuracy: 0.8606\n",
      "Epoch 95/100\n",
      "200/200 [==============================] - 0s 2ms/step - loss: 0.3225 - accuracy: 0.8673 - val_loss: 0.3383 - val_accuracy: 0.8600\n",
      "Epoch 96/100\n",
      "200/200 [==============================] - 0s 2ms/step - loss: 0.3223 - accuracy: 0.8659 - val_loss: 0.3400 - val_accuracy: 0.8619\n",
      "Epoch 97/100\n",
      "200/200 [==============================] - 0s 2ms/step - loss: 0.3228 - accuracy: 0.8678 - val_loss: 0.3389 - val_accuracy: 0.8606\n",
      "Epoch 98/100\n",
      "200/200 [==============================] - 0s 2ms/step - loss: 0.3220 - accuracy: 0.8670 - val_loss: 0.3395 - val_accuracy: 0.8612\n",
      "Epoch 99/100\n",
      "200/200 [==============================] - 0s 2ms/step - loss: 0.3226 - accuracy: 0.8662 - val_loss: 0.3407 - val_accuracy: 0.8594\n",
      "Epoch 100/100\n",
      "200/200 [==============================] - 0s 2ms/step - loss: 0.3216 - accuracy: 0.8666 - val_loss: 0.3414 - val_accuracy: 0.8594\n"
     ]
    }
   ],
   "source": [
    "history1 = model.fit(X_train,y_train,epochs=100, validation_split=0.2)"
   ]
  },
  {
   "cell_type": "code",
   "execution_count": 236,
   "metadata": {},
   "outputs": [
    {
     "data": {
      "text/plain": [
       "[array([[ 0.09726946, -0.06064366, -0.08273262, -0.08834783, -0.27819648,\n",
       "          0.46175292,  0.03438827, -0.12141217,  0.01444863, -0.09102707,\n",
       "         -0.00888781],\n",
       "        [-0.9401578 ,  1.0490224 ,  0.17905954,  0.28951597,  0.322216  ,\n",
       "         -0.37831414, -0.0638357 , -0.72382116,  0.87188935, -0.3155333 ,\n",
       "         -0.5555026 ],\n",
       "        [-0.11796685,  0.09215444, -0.04191369, -0.02161536, -0.16599672,\n",
       "          0.42941234,  0.03985096,  0.05921135,  0.36064374,  0.55213267,\n",
       "         -0.22808161],\n",
       "        [-0.08718527, -0.3235311 ,  0.37114352, -0.23286167, -0.52545726,\n",
       "         -0.85991585,  0.04142375, -0.29966226, -0.6787098 ,  0.43582448,\n",
       "          0.29651082],\n",
       "        [-0.03038637, -0.2717658 ,  1.0668635 , -0.90078306,  0.16648605,\n",
       "         -0.48524722,  0.26546228,  0.26390415,  0.4955765 , -0.29640317,\n",
       "          0.22543707],\n",
       "        [ 0.01456317,  0.04430944, -0.126308  ,  0.01803405, -0.04666885,\n",
       "         -0.04134336,  0.08730392, -0.0434733 , -0.21890071,  0.41287476,\n",
       "         -0.41657057],\n",
       "        [-0.1125823 ,  0.7155838 ,  0.16125111, -0.32398757,  0.90585136,\n",
       "          0.46998608,  0.39399987, -0.4749253 , -0.32718378,  0.5063903 ,\n",
       "         -0.09877574],\n",
       "        [ 0.30390263,  0.04758146,  0.01082253,  0.01836805,  0.35734203,\n",
       "         -0.2127335 , -0.05081538, -0.01111734,  0.37985188,  0.22571914,\n",
       "         -0.01768823],\n",
       "        [ 0.40971398, -0.04624486, -0.25047562,  0.3340846 ,  0.21921897,\n",
       "         -0.56201315, -0.14648327, -0.16888075, -0.3869418 , -0.96010995,\n",
       "         -0.21108612],\n",
       "        [-0.0543051 ,  0.16137959,  0.06622805, -0.00756083, -0.25935838,\n",
       "          0.35387385,  0.0695539 , -0.12000934,  0.09082896,  0.47038934,\n",
       "         -0.2577935 ],\n",
       "        [ 0.09411668,  0.04036204, -0.0160815 ,  0.08011271, -0.07397557,\n",
       "          0.42172322,  0.3371181 ,  0.00907812, -0.23093805,  0.11710518,\n",
       "         -0.03426243]], dtype=float32),\n",
       " array([ 0.55632776, -1.1215862 , -0.7864616 ,  0.27493837,  0.00855446,\n",
       "         0.6264492 ,  0.74594295,  0.79983985,  0.10628828,  0.13649487,\n",
       "         0.32611915], dtype=float32)]"
      ]
     },
     "execution_count": 236,
     "metadata": {},
     "output_type": "execute_result"
    }
   ],
   "source": [
    "model.layers[0].get_weights()"
   ]
  },
  {
   "cell_type": "code",
   "execution_count": 237,
   "metadata": {},
   "outputs": [
    {
     "data": {
      "text/plain": [
       "[array([[ 3.78575504e-01,  1.14480838e-01,  3.83580178e-01,\n",
       "          3.35660219e-01, -1.34449720e-01, -2.77881533e-01,\n",
       "          2.28345424e-01,  3.77422273e-01, -4.21232909e-01,\n",
       "          3.64902377e-01,  5.05338848e-01],\n",
       "        [ 6.75850689e-01,  9.71678272e-02,  7.52294064e-01,\n",
       "          6.11035407e-01, -1.08705592e+00,  3.25301200e-01,\n",
       "          6.78378716e-02, -7.08778262e-01, -7.42661595e-01,\n",
       "         -1.55375898e+00, -3.75202335e-02],\n",
       "        [ 1.66893154e-01,  7.91812360e-01, -5.22721075e-02,\n",
       "          1.89353719e-01,  1.14831257e+00, -5.51665843e-01,\n",
       "         -3.15636307e-01,  1.16019964e+00, -3.74953002e-01,\n",
       "         -3.51896852e-01,  6.08731389e-01],\n",
       "        [ 1.01064108e-02, -1.14660695e-01, -6.60300478e-02,\n",
       "         -1.53415963e-01,  3.71616036e-01, -5.53408086e-01,\n",
       "         -8.77418816e-02, -3.00371200e-01,  5.90128779e-01,\n",
       "         -2.11487785e-01, -8.38305876e-02],\n",
       "        [ 3.71502459e-01,  1.09291591e-01,  4.81951654e-01,\n",
       "          5.36724865e-01,  5.98313846e-02, -8.67132396e-02,\n",
       "          4.90419209e-01, -4.99930978e-01,  3.34126770e-01,\n",
       "          2.61417121e-01, -1.92226768e-01],\n",
       "        [ 5.40841281e-01,  3.22613031e-01,  3.69632214e-01,\n",
       "          3.96124423e-02,  2.22547296e-02, -1.44576028e-01,\n",
       "          6.98790014e-01, -6.38506142e-03,  2.24265754e-01,\n",
       "          5.40093303e-01,  2.01437265e-01],\n",
       "        [ 4.76000756e-02,  4.80718940e-01, -1.39846101e-01,\n",
       "         -3.19421083e-01, -1.48727283e-01,  4.41497833e-01,\n",
       "         -9.16401684e-01, -1.59167215e-01,  5.55550680e-02,\n",
       "          3.23994428e-01, -3.40908140e-01],\n",
       "        [-1.94641650e-01,  5.85824788e-01,  2.12504137e-02,\n",
       "          4.10206586e-01,  9.51397642e-02,  6.48978233e-01,\n",
       "         -1.70479894e-01,  4.16970730e-01, -7.36951172e-01,\n",
       "          2.55585283e-01,  1.57307029e-01],\n",
       "        [-8.64100177e-03, -6.17366195e-01,  3.32717560e-02,\n",
       "         -1.56515948e-02,  3.92462343e-01,  4.10995275e-01,\n",
       "         -3.10277492e-01,  1.67804658e-01,  3.29462826e-01,\n",
       "          2.48226849e-03,  5.52417934e-01],\n",
       "        [-8.36291164e-02, -5.63783765e-01,  4.47341502e-01,\n",
       "          3.01601797e-01, -5.84833883e-02, -5.14798999e-01,\n",
       "          3.98177087e-01, -3.97963077e-01, -5.42148769e-01,\n",
       "          1.06459984e-03,  5.77547140e-02],\n",
       "        [ 1.98592797e-01,  1.16290934e-01, -4.59988602e-02,\n",
       "         -1.14084139e-01, -2.19950944e-01,  6.57623112e-01,\n",
       "         -1.21910498e-02,  3.43533128e-01,  4.88381945e-02,\n",
       "          2.76900269e-02, -1.54682368e-01]], dtype=float32),\n",
       " array([ 0.2711584 , -0.2546766 ,  0.22183642,  0.28777072, -0.19866326,\n",
       "         0.23250067, -0.25678352, -0.25195503,  0.409873  ,  0.59464276,\n",
       "        -0.13754442], dtype=float32)]"
      ]
     },
     "execution_count": 237,
     "metadata": {},
     "output_type": "execute_result"
    }
   ],
   "source": [
    "model.layers[1].get_weights()"
   ]
  },
  {
   "cell_type": "code",
   "execution_count": 238,
   "metadata": {},
   "outputs": [
    {
     "data": {
      "text/plain": [
       "[array([[-0.41046503],\n",
       "        [ 0.5699911 ],\n",
       "        [-0.36470994],\n",
       "        [-0.09007978],\n",
       "        [ 0.99185354],\n",
       "        [-1.0696414 ],\n",
       "        [ 1.1800549 ],\n",
       "        [ 0.7201772 ],\n",
       "        [ 1.2373781 ],\n",
       "        [-1.1923841 ],\n",
       "        [ 0.5703786 ]], dtype=float32),\n",
       " array([-0.06725818], dtype=float32)]"
      ]
     },
     "execution_count": 238,
     "metadata": {},
     "output_type": "execute_result"
    }
   ],
   "source": [
    "model.layers[2].get_weights()"
   ]
  },
  {
   "cell_type": "code",
   "execution_count": 239,
   "metadata": {},
   "outputs": [
    {
     "name": "stdout",
     "output_type": "stream",
     "text": [
      "63/63 [==============================] - 0s 2ms/step\n"
     ]
    }
   ],
   "source": [
    "y_p = model.predict(X_test)"
   ]
  },
  {
   "cell_type": "code",
   "execution_count": 240,
   "metadata": {},
   "outputs": [],
   "source": [
    "y_pred = np.where(y_p>0.5,1,0)"
   ]
  },
  {
   "cell_type": "code",
   "execution_count": 241,
   "metadata": {},
   "outputs": [
    {
     "data": {
      "text/plain": [
       "0.863"
      ]
     },
     "execution_count": 241,
     "metadata": {},
     "output_type": "execute_result"
    }
   ],
   "source": [
    "from sklearn.metrics import accuracy_score\n",
    "accuracy_score(y_test,y_pred)"
   ]
  },
  {
   "cell_type": "code",
   "execution_count": 242,
   "metadata": {},
   "outputs": [],
   "source": [
    "import matplotlib.pyplot as plt"
   ]
  },
  {
   "cell_type": "code",
   "execution_count": 243,
   "metadata": {},
   "outputs": [
    {
     "data": {
      "text/plain": [
       "{'loss': [0.6179807186126709,\n",
       "  0.5418571829795837,\n",
       "  0.5076223611831665,\n",
       "  0.4893668293952942,\n",
       "  0.47690483927726746,\n",
       "  0.46700024604797363,\n",
       "  0.45875388383865356,\n",
       "  0.4517503082752228,\n",
       "  0.44614845514297485,\n",
       "  0.44186699390411377],\n",
       " 'accuracy': [0.7268750071525574,\n",
       "  0.7934374809265137,\n",
       "  0.7934374809265137,\n",
       "  0.7934374809265137,\n",
       "  0.7934374809265137,\n",
       "  0.7934374809265137,\n",
       "  0.7934374809265137,\n",
       "  0.7934374809265137,\n",
       "  0.7934374809265137,\n",
       "  0.793749988079071],\n",
       " 'val_loss': [0.5632736086845398,\n",
       "  0.5114869475364685,\n",
       "  0.486221045255661,\n",
       "  0.47056862711906433,\n",
       "  0.4590369760990143,\n",
       "  0.4496051073074341,\n",
       "  0.44187188148498535,\n",
       "  0.4354223310947418,\n",
       "  0.43062713742256165,\n",
       "  0.4270527958869934],\n",
       " 'val_accuracy': [0.7987499833106995,\n",
       "  0.7987499833106995,\n",
       "  0.7987499833106995,\n",
       "  0.7987499833106995,\n",
       "  0.7987499833106995,\n",
       "  0.7987499833106995,\n",
       "  0.7987499833106995,\n",
       "  0.7987499833106995,\n",
       "  0.7987499833106995,\n",
       "  0.8018749952316284]}"
      ]
     },
     "execution_count": 243,
     "metadata": {},
     "output_type": "execute_result"
    }
   ],
   "source": [
    "history.history"
   ]
  },
  {
   "cell_type": "code",
   "execution_count": 244,
   "metadata": {},
   "outputs": [
    {
     "data": {
      "text/plain": [
       "{'loss': [0.5868505835533142,\n",
       "  0.46128585934638977,\n",
       "  0.4372106194496155,\n",
       "  0.42387253046035767,\n",
       "  0.4115232229232788,\n",
       "  0.3970959484577179,\n",
       "  0.3826254904270172,\n",
       "  0.3705143332481384,\n",
       "  0.36158639192581177,\n",
       "  0.3557489514350891,\n",
       "  0.351775586605072,\n",
       "  0.34973469376564026,\n",
       "  0.34714275598526,\n",
       "  0.346053808927536,\n",
       "  0.3435576260089874,\n",
       "  0.34262025356292725,\n",
       "  0.34090718626976013,\n",
       "  0.3399152457714081,\n",
       "  0.33924031257629395,\n",
       "  0.33823928236961365,\n",
       "  0.337650328874588,\n",
       "  0.3368520736694336,\n",
       "  0.33617568016052246,\n",
       "  0.33556270599365234,\n",
       "  0.3350125253200531,\n",
       "  0.33444899320602417,\n",
       "  0.33408305048942566,\n",
       "  0.33379119634628296,\n",
       "  0.3327923119068146,\n",
       "  0.3324454128742218,\n",
       "  0.33296316862106323,\n",
       "  0.3320905268192291,\n",
       "  0.3309645354747772,\n",
       "  0.33112767338752747,\n",
       "  0.3305097818374634,\n",
       "  0.3302256762981415,\n",
       "  0.329590767621994,\n",
       "  0.3292134404182434,\n",
       "  0.32950377464294434,\n",
       "  0.3289460837841034,\n",
       "  0.3291257917881012,\n",
       "  0.328246146440506,\n",
       "  0.32833603024482727,\n",
       "  0.32807689905166626,\n",
       "  0.3279911279678345,\n",
       "  0.3272903561592102,\n",
       "  0.32753682136535645,\n",
       "  0.3277478516101837,\n",
       "  0.32681891322135925,\n",
       "  0.32693737745285034,\n",
       "  0.32692599296569824,\n",
       "  0.3268914818763733,\n",
       "  0.3260212242603302,\n",
       "  0.32572314143180847,\n",
       "  0.3259516656398773,\n",
       "  0.3261193335056305,\n",
       "  0.3261863589286804,\n",
       "  0.32589831948280334,\n",
       "  0.32572034001350403,\n",
       "  0.3258127272129059,\n",
       "  0.3253103196620941,\n",
       "  0.32471752166748047,\n",
       "  0.32506436109542847,\n",
       "  0.32467806339263916,\n",
       "  0.32451343536376953,\n",
       "  0.32511913776397705,\n",
       "  0.3246072828769684,\n",
       "  0.3252663016319275,\n",
       "  0.32432419061660767,\n",
       "  0.32517850399017334,\n",
       "  0.32492226362228394,\n",
       "  0.3245994448661804,\n",
       "  0.3244410753250122,\n",
       "  0.3246607184410095,\n",
       "  0.323795348405838,\n",
       "  0.3241128921508789,\n",
       "  0.32443344593048096,\n",
       "  0.32393062114715576,\n",
       "  0.3236675262451172,\n",
       "  0.3242861032485962,\n",
       "  0.3237960934638977,\n",
       "  0.3239501118659973,\n",
       "  0.3237397372722626,\n",
       "  0.3232060670852661,\n",
       "  0.32397735118865967,\n",
       "  0.3236371576786041,\n",
       "  0.32332831621170044,\n",
       "  0.3238142132759094,\n",
       "  0.32291945815086365,\n",
       "  0.32314950227737427,\n",
       "  0.3232067823410034,\n",
       "  0.3229563236236572,\n",
       "  0.32298290729522705,\n",
       "  0.3225969076156616,\n",
       "  0.322519987821579,\n",
       "  0.3223038911819458,\n",
       "  0.32278212904930115,\n",
       "  0.32201260328292847,\n",
       "  0.32257285714149475,\n",
       "  0.321570485830307],\n",
       " 'accuracy': [0.6953125,\n",
       "  0.7998437285423279,\n",
       "  0.8067187666893005,\n",
       "  0.8123437762260437,\n",
       "  0.8224999904632568,\n",
       "  0.8387500047683716,\n",
       "  0.8492187261581421,\n",
       "  0.8517187237739563,\n",
       "  0.85546875,\n",
       "  0.854687511920929,\n",
       "  0.8539062738418579,\n",
       "  0.8570312261581421,\n",
       "  0.8579687476158142,\n",
       "  0.8568750023841858,\n",
       "  0.8596875071525574,\n",
       "  0.858593761920929,\n",
       "  0.8587499856948853,\n",
       "  0.8596875071525574,\n",
       "  0.8614062666893005,\n",
       "  0.8617187738418579,\n",
       "  0.8609374761581421,\n",
       "  0.8609374761581421,\n",
       "  0.8631250262260437,\n",
       "  0.8620312213897705,\n",
       "  0.8637499809265137,\n",
       "  0.8617187738418579,\n",
       "  0.8631250262260437,\n",
       "  0.8618749976158142,\n",
       "  0.8621875047683716,\n",
       "  0.8654687404632568,\n",
       "  0.8634374737739563,\n",
       "  0.8642187714576721,\n",
       "  0.8654687404632568,\n",
       "  0.8650000095367432,\n",
       "  0.8668749928474426,\n",
       "  0.8642187714576721,\n",
       "  0.8660937547683716,\n",
       "  0.8635937571525574,\n",
       "  0.8628125190734863,\n",
       "  0.8639062643051147,\n",
       "  0.8665624856948853,\n",
       "  0.8656250238418579,\n",
       "  0.8654687404632568,\n",
       "  0.8642187714576721,\n",
       "  0.8653125166893005,\n",
       "  0.8651562333106995,\n",
       "  0.8653125166893005,\n",
       "  0.8645312786102295,\n",
       "  0.8643749952316284,\n",
       "  0.8656250238418579,\n",
       "  0.8637499809265137,\n",
       "  0.8637499809265137,\n",
       "  0.8657812476158142,\n",
       "  0.8651562333106995,\n",
       "  0.866406261920929,\n",
       "  0.8650000095367432,\n",
       "  0.8637499809265137,\n",
       "  0.8656250238418579,\n",
       "  0.8645312786102295,\n",
       "  0.8665624856948853,\n",
       "  0.8668749928474426,\n",
       "  0.8660937547683716,\n",
       "  0.8668749928474426,\n",
       "  0.8665624856948853,\n",
       "  0.867968738079071,\n",
       "  0.8654687404632568,\n",
       "  0.8671875,\n",
       "  0.8662499785423279,\n",
       "  0.8653125166893005,\n",
       "  0.8682812452316284,\n",
       "  0.8645312786102295,\n",
       "  0.866406261920929,\n",
       "  0.8657812476158142,\n",
       "  0.8646875023841858,\n",
       "  0.8684375286102295,\n",
       "  0.8653125166893005,\n",
       "  0.8659374713897705,\n",
       "  0.8662499785423279,\n",
       "  0.8671875,\n",
       "  0.8665624856948853,\n",
       "  0.8662499785423279,\n",
       "  0.8667187690734863,\n",
       "  0.8660937547683716,\n",
       "  0.866406261920929,\n",
       "  0.8668749928474426,\n",
       "  0.8665624856948853,\n",
       "  0.866406261920929,\n",
       "  0.8662499785423279,\n",
       "  0.866406261920929,\n",
       "  0.8681250214576721,\n",
       "  0.8678125143051147,\n",
       "  0.8657812476158142,\n",
       "  0.8662499785423279,\n",
       "  0.8675000071525574,\n",
       "  0.8673437237739563,\n",
       "  0.8659374713897705,\n",
       "  0.8678125143051147,\n",
       "  0.8670312762260437,\n",
       "  0.8662499785423279,\n",
       "  0.8665624856948853],\n",
       " 'val_loss': [0.4639163911342621,\n",
       "  0.42844557762145996,\n",
       "  0.41612493991851807,\n",
       "  0.4086805284023285,\n",
       "  0.3980380594730377,\n",
       "  0.38845938444137573,\n",
       "  0.3773200511932373,\n",
       "  0.36949649453163147,\n",
       "  0.36346104741096497,\n",
       "  0.3593105375766754,\n",
       "  0.35654354095458984,\n",
       "  0.35472968220710754,\n",
       "  0.35172611474990845,\n",
       "  0.3503311276435852,\n",
       "  0.34964221715927124,\n",
       "  0.348565012216568,\n",
       "  0.3481428921222687,\n",
       "  0.34892189502716064,\n",
       "  0.34682488441467285,\n",
       "  0.34565985202789307,\n",
       "  0.3449828624725342,\n",
       "  0.3448180854320526,\n",
       "  0.34413573145866394,\n",
       "  0.34433287382125854,\n",
       "  0.3442392349243164,\n",
       "  0.34319794178009033,\n",
       "  0.3438527286052704,\n",
       "  0.3437640070915222,\n",
       "  0.3426693081855774,\n",
       "  0.3425700068473816,\n",
       "  0.34320276975631714,\n",
       "  0.3417486250400543,\n",
       "  0.34204238653182983,\n",
       "  0.3422766625881195,\n",
       "  0.34131553769111633,\n",
       "  0.34182775020599365,\n",
       "  0.34093692898750305,\n",
       "  0.3410789966583252,\n",
       "  0.34174859523773193,\n",
       "  0.34260669350624084,\n",
       "  0.3409377634525299,\n",
       "  0.341770738363266,\n",
       "  0.34124791622161865,\n",
       "  0.340607225894928,\n",
       "  0.3406290113925934,\n",
       "  0.34025222063064575,\n",
       "  0.339852511882782,\n",
       "  0.3399326801300049,\n",
       "  0.3402603268623352,\n",
       "  0.3407629430294037,\n",
       "  0.33999526500701904,\n",
       "  0.3399485647678375,\n",
       "  0.34027567505836487,\n",
       "  0.3393077850341797,\n",
       "  0.34006184339523315,\n",
       "  0.33972564339637756,\n",
       "  0.33954963088035583,\n",
       "  0.34048107266426086,\n",
       "  0.3399215340614319,\n",
       "  0.34000858664512634,\n",
       "  0.3395024538040161,\n",
       "  0.3398243188858032,\n",
       "  0.33892908692359924,\n",
       "  0.3399898111820221,\n",
       "  0.3399951457977295,\n",
       "  0.33891019225120544,\n",
       "  0.3407938480377197,\n",
       "  0.33957359194755554,\n",
       "  0.33923983573913574,\n",
       "  0.3404273986816406,\n",
       "  0.33969131112098694,\n",
       "  0.33995816111564636,\n",
       "  0.33931055665016174,\n",
       "  0.3394821882247925,\n",
       "  0.3385370373725891,\n",
       "  0.3392678499221802,\n",
       "  0.34241393208503723,\n",
       "  0.34131908416748047,\n",
       "  0.3394092917442322,\n",
       "  0.3395487070083618,\n",
       "  0.3391614854335785,\n",
       "  0.3399818539619446,\n",
       "  0.34021395444869995,\n",
       "  0.34018874168395996,\n",
       "  0.3394661843776703,\n",
       "  0.3392830193042755,\n",
       "  0.33925071358680725,\n",
       "  0.3403720557689667,\n",
       "  0.33897894620895386,\n",
       "  0.33889684081077576,\n",
       "  0.3387742340564728,\n",
       "  0.3385286331176758,\n",
       "  0.33917880058288574,\n",
       "  0.3399446904659271,\n",
       "  0.33831557631492615,\n",
       "  0.3400063216686249,\n",
       "  0.3389098644256592,\n",
       "  0.3394585847854614,\n",
       "  0.34073811769485474,\n",
       "  0.34135305881500244],\n",
       " 'val_accuracy': [0.8056250214576721,\n",
       "  0.8199999928474426,\n",
       "  0.8237500190734863,\n",
       "  0.8274999856948853,\n",
       "  0.840624988079071,\n",
       "  0.846875011920929,\n",
       "  0.8487499952316284,\n",
       "  0.8531249761581421,\n",
       "  0.856249988079071,\n",
       "  0.859375,\n",
       "  0.8556249737739563,\n",
       "  0.856249988079071,\n",
       "  0.8575000166893005,\n",
       "  0.856249988079071,\n",
       "  0.856249988079071,\n",
       "  0.8568750023841858,\n",
       "  0.8568750023841858,\n",
       "  0.8556249737739563,\n",
       "  0.8575000166893005,\n",
       "  0.8556249737739563,\n",
       "  0.856249988079071,\n",
       "  0.8556249737739563,\n",
       "  0.856249988079071,\n",
       "  0.8575000166893005,\n",
       "  0.859375,\n",
       "  0.8581249713897705,\n",
       "  0.8581249713897705,\n",
       "  0.8575000166893005,\n",
       "  0.8581249713897705,\n",
       "  0.8618749976158142,\n",
       "  0.8581249713897705,\n",
       "  0.8612499833106995,\n",
       "  0.8587499856948853,\n",
       "  0.859375,\n",
       "  0.8631250262260437,\n",
       "  0.8587499856948853,\n",
       "  0.8606250286102295,\n",
       "  0.8637499809265137,\n",
       "  0.8612499833106995,\n",
       "  0.8606250286102295,\n",
       "  0.862500011920929,\n",
       "  0.8606250286102295,\n",
       "  0.8631250262260437,\n",
       "  0.8612499833106995,\n",
       "  0.862500011920929,\n",
       "  0.862500011920929,\n",
       "  0.859375,\n",
       "  0.8606250286102295,\n",
       "  0.8587499856948853,\n",
       "  0.8643749952316284,\n",
       "  0.862500011920929,\n",
       "  0.862500011920929,\n",
       "  0.8612499833106995,\n",
       "  0.8587499856948853,\n",
       "  0.862500011920929,\n",
       "  0.8600000143051147,\n",
       "  0.862500011920929,\n",
       "  0.8612499833106995,\n",
       "  0.859375,\n",
       "  0.8612499833106995,\n",
       "  0.8600000143051147,\n",
       "  0.8631250262260437,\n",
       "  0.8612499833106995,\n",
       "  0.8606250286102295,\n",
       "  0.862500011920929,\n",
       "  0.8600000143051147,\n",
       "  0.862500011920929,\n",
       "  0.8606250286102295,\n",
       "  0.8606250286102295,\n",
       "  0.8618749976158142,\n",
       "  0.8643749952316284,\n",
       "  0.8618749976158142,\n",
       "  0.8612499833106995,\n",
       "  0.8606250286102295,\n",
       "  0.8612499833106995,\n",
       "  0.8606250286102295,\n",
       "  0.8612499833106995,\n",
       "  0.8600000143051147,\n",
       "  0.8587499856948853,\n",
       "  0.8606250286102295,\n",
       "  0.8606250286102295,\n",
       "  0.862500011920929,\n",
       "  0.862500011920929,\n",
       "  0.859375,\n",
       "  0.8600000143051147,\n",
       "  0.859375,\n",
       "  0.8618749976158142,\n",
       "  0.8606250286102295,\n",
       "  0.8606250286102295,\n",
       "  0.8618749976158142,\n",
       "  0.859375,\n",
       "  0.8612499833106995,\n",
       "  0.8612499833106995,\n",
       "  0.8606250286102295,\n",
       "  0.8600000143051147,\n",
       "  0.8618749976158142,\n",
       "  0.8606250286102295,\n",
       "  0.8612499833106995,\n",
       "  0.859375,\n",
       "  0.859375]}"
      ]
     },
     "execution_count": 244,
     "metadata": {},
     "output_type": "execute_result"
    }
   ],
   "source": [
    "history1.history"
   ]
  },
  {
   "cell_type": "code",
   "execution_count": 245,
   "metadata": {},
   "outputs": [
    {
     "data": {
      "text/plain": [
       "[<matplotlib.lines.Line2D at 0x14f593f5e80>]"
      ]
     },
     "execution_count": 245,
     "metadata": {},
     "output_type": "execute_result"
    },
    {
     "data": {
      "image/png": "[encoded data removed]",
      "text/plain": [
       "<Figure size 432x288 with 1 Axes>"
      ]
     },
     "metadata": {
      "needs_background": "light"
     },
     "output_type": "display_data"
    }
   ],
   "source": [
    "plt.plot(history.history['loss'])\n",
    "plt.plot(history.history['val_loss'])"
   ]
  },
  {
   "cell_type": "code",
   "execution_count": 246,
   "metadata": {},
   "outputs": [
    {
     "data": {
      "text/plain": [
       "[<matplotlib.lines.Line2D at 0x14f62972e80>]"
      ]
     },
     "execution_count": 246,
     "metadata": {},
     "output_type": "execute_result"
    },
    {
     "data": {
      "image/png": "[encoded data removed]",
      "text/plain": [
       "<Figure size 432x288 with 1 Axes>"
      ]
     },
     "metadata": {
      "needs_background": "light"
     },
     "output_type": "display_data"
    }
   ],
   "source": [
    "plt.plot(history1.history['loss'])\n",
    "plt.plot(history1.history['val_loss'])"
   ]
  },
  {
   "cell_type": "code",
   "execution_count": 247,
   "metadata": {},
   "outputs": [
    {
     "data": {
      "text/plain": [
       "[<matplotlib.lines.Line2D at 0x14f578fdf70>]"
      ]
     },
     "execution_count": 247,
     "metadata": {},
     "output_type": "execute_result"
    },
    {
     "data": {
      "image/png": "[encoded data removed]",
      "text/plain": [
       "<Figure size 432x288 with 1 Axes>"
      ]
     },
     "metadata": {
      "needs_background": "light"
     },
     "output_type": "display_data"
    }
   ],
   "source": [
    "plt.plot(history.history['accuracy'])\n",
    "plt.plot(history.history['val_accuracy'])"
   ]
  },
  {
   "cell_type": "code",
   "execution_count": 248,
   "metadata": {},
   "outputs": [
    {
     "data": {
      "text/plain": [
       "[<matplotlib.lines.Line2D at 0x14f618dedc0>]"
      ]
     },
     "execution_count": 248,
     "metadata": {},
     "output_type": "execute_result"
    },
    {
     "data": {
      "image/png": "[encoded data removed]",
      "text/plain": [
       "<Figure size 432x288 with 1 Axes>"
      ]
     },
     "metadata": {
      "needs_background": "light"
     },
     "output_type": "display_data"
    }
   ],
   "source": [
    "plt.plot(history1.history['accuracy'])\n",
    "plt.plot(history1.history['val_accuracy'])"
   ]
  },
  {
   "cell_type": "code",
   "execution_count": null,
   "metadata": {},
   "outputs": [],
   "source": []
  }
 ],
 "metadata": {
  "kernelspec": {
   "display_name": "base",
   "language": "python",
   "name": "python3"
  },
  "language_info": {
   "codemirror_mode": {
    "name": "ipython",
    "version": 3
   },
   "file_extension": ".py",
   "mimetype": "text/x-python",
   "name": "python",
   "nbconvert_exporter": "python",
   "pygments_lexer": "ipython3",
   "version": "3.9.7"
  }
 },
 "nbformat": 4,
 "nbformat_minor": 2
}
